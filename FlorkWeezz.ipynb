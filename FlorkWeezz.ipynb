{
  "nbformat": 4,
  "nbformat_minor": 0,
  "metadata": {
    "colab": {
      "provenance": [],
      "toc_visible": true
    },
    "kernelspec": {
      "name": "python3",
      "display_name": "Python 3"
    },
    "language_info": {
      "name": "python"
    }
  },
  "cells": [
    {
      "cell_type": "code",
      "source": [
        "pip install python-nmap"
      ],
      "metadata": {
        "colab": {
          "base_uri": "https://localhost:8080/"
        },
        "id": "6ngIoul-7nwq",
        "outputId": "49c7b93d-bdcd-495a-b059-1888dd7b9147"
      },
      "execution_count": null,
      "outputs": [
        {
          "output_type": "stream",
          "name": "stdout",
          "text": [
            "Collecting python-nmap\n",
            "  Downloading python-nmap-0.7.1.tar.gz (44 kB)\n",
            "\u001b[?25l     \u001b[90m━━━━━━━━━━━━━━━━━━━━━━━━━━━━━━━━━━━━━━━━\u001b[0m \u001b[32m0.0/44.4 kB\u001b[0m \u001b[31m?\u001b[0m eta \u001b[36m-:--:--\u001b[0m\r\u001b[2K     \u001b[90m━━━━━━━━━━━━━━━━━━━━━━━━━━━━━━━━━━━━━━━━\u001b[0m \u001b[32m44.4/44.4 kB\u001b[0m \u001b[31m1.8 MB/s\u001b[0m eta \u001b[36m0:00:00\u001b[0m\n",
            "\u001b[?25h  Preparing metadata (setup.py) ... \u001b[?25l\u001b[?25hdone\n",
            "Building wheels for collected packages: python-nmap\n",
            "  Building wheel for python-nmap (setup.py) ... \u001b[?25l\u001b[?25hdone\n",
            "  Created wheel for python-nmap: filename=python_nmap-0.7.1-py2.py3-none-any.whl size=20635 sha256=1bb5ec57a001c6b700b02f5662b24cbfbaa7a49470de058c928cdb6e7004baf2\n",
            "  Stored in directory: /root/.cache/pip/wheels/da/bd/c6/0342ac886d4deb8d166a3191eb2566f738c5b1574cb0a8cd62\n",
            "Successfully built python-nmap\n",
            "Installing collected packages: python-nmap\n",
            "Successfully installed python-nmap-0.7.1\n"
          ]
        }
      ]
    },
    {
      "cell_type": "code",
      "source": [
        "!which nmap\n",
        "import nmap\n",
        "\n",
        "def scan_target(target_ip):\n",
        "    scanner = nmap.PortScanner()\n",
        "    print(\"Scanning target...\")\n",
        "    scanner.scan(target_ip, arguments='-sV -O')  # Scan for services and OS detection\n",
        "    return scanner[target_ip]\n",
        "\n",
        "def detect_vulnerabilities(scan_results):\n",
        "    vulnerabilities = []\n",
        "    for port in scan_results['scan'][scan_results.all_hosts()[0]].all_tcp():\n",
        "        service = scan_results['scan'][scan_results.all_hosts()[0]]['tcp'][port]['name']\n",
        "        version = scan_results['scan'][scan_results.all_hosts()[0]]['tcp'][port]['version']\n",
        "        # Example: Check for known vulnerabilities based on service and version\n",
        "        if service == 'ssh' and version == '7.1':\n",
        "            vulnerabilities.append({'service': service, 'version': version, 'vulnerability': 'CVE-2016-0777'})\n",
        "        # Add more checks for different services and versions here\n",
        "    return vulnerabilities\n",
        "\n",
        "def generate_report(scan_results, vulnerabilities):\n",
        "    report = f\"Scan results for {scan_results.all_hosts()[0]}:\\n\"  # Accessing hostname differently\n",
        "    for port in scan_results['scan'][scan_results.all_hosts()[0]].all_tcp():\n",
        "        service = scan_results['scan'][scan_results.all_hosts()[0]]['tcp'][port]['name']\n",
        "        version = scan_results['scan'][scan_results.all_hosts()[0]]['tcp'][port]['version']\n",
        "        report += f\"Port {port}/{scan_results['scan'][scan_results.all_hosts()[0]]['tcp'][port]['state']}: {service} {version}\\n\"\n",
        "    if vulnerabilities:\n",
        "        report += \"\\nVulnerabilities found:\\n\"\n",
        "        for vuln in vulnerabilities:\n",
        "            report += f\"- {vuln['service']} {vuln['version']} is vulnerable to {vuln['vulnerability']}\\n\"\n",
        "    else:\n",
        "        report += \"\\nNo vulnerabilities found.\\n\"\n",
        "    return report\n",
        "\n",
        "def main():\n",
        "    target_ip = input(\"Enter the target IP address: \")  # Prompt user for target IP address\n",
        "    scan_results = scan_target(target_ip)\n",
        "    vulnerabilities = detect_vulnerabilities(scan_results)\n",
        "    report = generate_report(scan_results, vulnerabilities)\n",
        "    print(report)\n",
        "\n",
        "if __name__ == \"_main_\":\n",
        "    main()"
      ],
      "metadata": {
        "id": "DFNBiGo7Cqw3"
      },
      "execution_count": null,
      "outputs": []
    }
  ]
}